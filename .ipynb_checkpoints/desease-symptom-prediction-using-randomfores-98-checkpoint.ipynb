{
 "cells": [
  {
   "cell_type": "code",
   "execution_count": 1,
   "metadata": {
    "_cell_guid": "b1076dfc-b9ad-4769-8c92-a6c4dae69d19",
    "_uuid": "8f2839f25d086af736a60e9eeb907d3b93b6e0e5"
   },
   "outputs": [],
   "source": [
    "# This Python 3 environment comes with many helpful analytics libraries installed\n",
    "# It is defined by the kaggle/python Docker image: https://github.com/kaggle/docker-python\n",
    "# For example, here's several helpful packages to load\n",
    "\n",
    "import numpy as np # linear algebra\n",
    "import pandas as pd # data processing, CSV file I/O (e.g. pd.read_csv)\n",
    "\n",
    "# Input data files are available in the read-only \"../input/\" directory\n",
    "# For example, running this (by clicking run or pressing Shift+Enter) will list all files under the input directory\n",
    "\n",
    "\n",
    "# You can write up to 20GB to the current directory (/kaggle/working/) that gets preserved as output when you create a version using \"Save & Run All\" \n",
    "# You can also write temporary files to /kaggle/temp/, but they won't be saved outside of the current session"
   ]
  },
  {
   "cell_type": "code",
   "execution_count": 2,
   "metadata": {},
   "outputs": [],
   "source": [
    "import pandas as pd\n",
    "import numpy as np\n",
    "import matplotlib.pyplot as plt\n",
    "from sklearn.model_selection import train_test_split\n",
    "from sklearn.metrics import f1_score, accuracy_score, confusion_matrix ,classification_report\n",
    "from sklearn.ensemble import RandomForestClassifier"
   ]
  },
  {
   "cell_type": "code",
   "execution_count": null,
   "metadata": {
    "execution": {
     "iopub.execute_input": "2022-09-27T14:12:15.936192Z",
     "iopub.status.busy": "2022-09-27T14:12:15.935751Z",
     "iopub.status.idle": "2022-09-27T14:12:15.996418Z",
     "shell.execute_reply": "2022-09-27T14:12:15.995093Z",
     "shell.execute_reply.started": "2022-09-27T14:12:15.936156Z"
    }
   },
   "outputs": [],
   "source": [
    "data  = pd.read_csv(\"\")\n",
    "data_sevrity = pd.read_csv(\"/kaggle/input/disease-symptom-description-dataset/Symptom-severity.csv\")"
   ]
  },
  {
   "cell_type": "code",
   "execution_count": null,
   "metadata": {
    "execution": {
     "iopub.execute_input": "2022-09-27T14:38:01.184271Z",
     "iopub.status.busy": "2022-09-27T14:38:01.183814Z",
     "iopub.status.idle": "2022-09-27T14:38:01.190046Z",
     "shell.execute_reply": "2022-09-27T14:38:01.188529Z",
     "shell.execute_reply.started": "2022-09-27T14:38:01.184235Z"
    }
   },
   "outputs": [],
   "source": [
    "for ind in data_sevrity.index:\n",
    "    continue\n",
    "   # print(data_sevrity['Symptom'][ind],data_sevrity['weight'][ind])"
   ]
  },
  {
   "cell_type": "code",
   "execution_count": null,
   "metadata": {
    "execution": {
     "iopub.execute_input": "2022-09-27T14:12:20.594491Z",
     "iopub.status.busy": "2022-09-27T14:12:20.594094Z",
     "iopub.status.idle": "2022-09-27T14:12:20.617267Z",
     "shell.execute_reply": "2022-09-27T14:12:20.615931Z",
     "shell.execute_reply.started": "2022-09-27T14:12:20.594459Z"
    }
   },
   "outputs": [],
   "source": [
    "#convert data_severity to dictionnary\n",
    "data_dict = data_sevrity.set_index('Symptom').T.to_dict()"
   ]
  },
  {
   "cell_type": "code",
   "execution_count": null,
   "metadata": {
    "execution": {
     "iopub.execute_input": "2022-09-27T14:18:46.062841Z",
     "iopub.status.busy": "2022-09-27T14:18:46.062400Z",
     "iopub.status.idle": "2022-09-27T14:18:46.070289Z",
     "shell.execute_reply": "2022-09-27T14:18:46.069251Z",
     "shell.execute_reply.started": "2022-09-27T14:18:46.062808Z"
    }
   },
   "outputs": [],
   "source": [
    "def remove_space_between_word(dataset):\n",
    "    for col in dataset.columns:\n",
    "        for i in range(len(dataset[col])):\n",
    "            if (type(dataset[col][i]) == str ):\n",
    "                dataset[col][i] = dataset[col][i].strip()\n",
    "                dataset[col][i] = dataset[col][i].replace(\" \", \"_\")\n",
    "    return data"
   ]
  },
  {
   "cell_type": "code",
   "execution_count": null,
   "metadata": {
    "execution": {
     "iopub.execute_input": "2022-09-27T14:19:03.698689Z",
     "iopub.status.busy": "2022-09-27T14:19:03.698227Z",
     "iopub.status.idle": "2022-09-27T14:19:10.298424Z",
     "shell.execute_reply": "2022-09-27T14:19:10.297419Z",
     "shell.execute_reply.started": "2022-09-27T14:19:03.698653Z"
    }
   },
   "outputs": [],
   "source": [
    "new_df = remove_space_between_word(data)\n",
    "new_df.head()"
   ]
  },
  {
   "cell_type": "code",
   "execution_count": null,
   "metadata": {
    "execution": {
     "iopub.execute_input": "2022-09-27T14:40:56.815097Z",
     "iopub.status.busy": "2022-09-27T14:40:56.814697Z",
     "iopub.status.idle": "2022-09-27T14:40:56.822198Z",
     "shell.execute_reply": "2022-09-27T14:40:56.821008Z",
     "shell.execute_reply.started": "2022-09-27T14:40:56.815064Z"
    }
   },
   "outputs": [],
   "source": [
    "def enc(dataset):\n",
    "    for ind in data_sevrity.index:\n",
    "        dataset = dataset.replace(data_sevrity[\"Symptom\"][ind] , data_sevrity[\"weight\"][ind])\n",
    "    dataset = dataset.fillna(0) # put empty cell to 0\n",
    "    dataset = dataset.replace(\"foul_smell_of_urine\" , 5)\n",
    "    dataset = dataset.replace(\"dischromic__patches\" , 6)\n",
    "    dataset = dataset.replace(\"spotting__urination\" , 6)\n",
    "    return dataset"
   ]
  },
  {
   "cell_type": "code",
   "execution_count": null,
   "metadata": {
    "execution": {
     "iopub.execute_input": "2022-09-27T14:43:52.650757Z",
     "iopub.status.busy": "2022-09-27T14:43:52.649580Z",
     "iopub.status.idle": "2022-09-27T14:43:53.138654Z",
     "shell.execute_reply": "2022-09-27T14:43:53.137173Z",
     "shell.execute_reply.started": "2022-09-27T14:43:52.650676Z"
    }
   },
   "outputs": [],
   "source": [
    "ds=enc(data)"
   ]
  },
  {
   "cell_type": "code",
   "execution_count": null,
   "metadata": {
    "execution": {
     "iopub.execute_input": "2022-09-27T14:44:02.424998Z",
     "iopub.status.busy": "2022-09-27T14:44:02.424473Z",
     "iopub.status.idle": "2022-09-27T14:44:02.435405Z",
     "shell.execute_reply": "2022-09-27T14:44:02.434076Z",
     "shell.execute_reply.started": "2022-09-27T14:44:02.424958Z"
    }
   },
   "outputs": [],
   "source": [
    "ds.dtypes"
   ]
  },
  {
   "cell_type": "code",
   "execution_count": null,
   "metadata": {
    "execution": {
     "iopub.execute_input": "2022-09-27T14:41:08.125676Z",
     "iopub.status.busy": "2022-09-27T14:41:08.125275Z",
     "iopub.status.idle": "2022-09-27T14:41:08.132938Z",
     "shell.execute_reply": "2022-09-27T14:41:08.131959Z",
     "shell.execute_reply.started": "2022-09-27T14:41:08.125638Z"
    }
   },
   "outputs": [],
   "source": [
    "\n",
    "def encode_data(dataset , data_dict_weigth):\n",
    "    cols = dataset.columns\n",
    "    for columnName in cols:\n",
    "        for i in range(len(dataset[columnName])):\n",
    "            try:\n",
    "            #print(data_dict[data2[columnName][i]][\"weight\"])\n",
    "                dataset[columnName][i] = data_dict[dataset[columnName][i]][\"weight\"]\n",
    "            except:\n",
    "                pass\n",
    "    dataset = dataset.fillna(0) # put empty cell to 0\n",
    "    dataset = dataset.replace(\"foul_smell_of_urine\" , 5)\n",
    "    dataset = dataset.replace(\"dischromic__patches\" , 6)\n",
    "    dataset = dataset.replace(\"spotting__urination\" , 6)\n",
    "    return dataset"
   ]
  },
  {
   "cell_type": "code",
   "execution_count": null,
   "metadata": {
    "execution": {
     "iopub.execute_input": "2022-09-27T14:41:10.082580Z",
     "iopub.status.busy": "2022-09-27T14:41:10.082097Z",
     "iopub.status.idle": "2022-09-27T14:41:13.042990Z",
     "shell.execute_reply": "2022-09-27T14:41:13.041774Z",
     "shell.execute_reply.started": "2022-09-27T14:41:10.082544Z"
    }
   },
   "outputs": [],
   "source": [
    "df = encode_data(new_df , data_dict)\n",
    "df.head()"
   ]
  },
  {
   "cell_type": "code",
   "execution_count": null,
   "metadata": {
    "execution": {
     "iopub.execute_input": "2022-09-27T14:44:38.684843Z",
     "iopub.status.busy": "2022-09-27T14:44:38.684445Z",
     "iopub.status.idle": "2022-09-27T14:44:39.255391Z",
     "shell.execute_reply": "2022-09-27T14:44:39.254201Z",
     "shell.execute_reply.started": "2022-09-27T14:44:38.684812Z"
    }
   },
   "outputs": [],
   "source": [
    "#check if all Symptoms are replace by their weigth\n",
    "names = []\n",
    "for col in df.columns:\n",
    "    if(col != \"Disease\"):\n",
    "        for i in range(len(df[col])):\n",
    "            if (type(df[col][i]) == str ):\n",
    "                if df[col][i] not in names :\n",
    "                    names.append(df[col][i])\n",
    "                    \n",
    "print(\" no replace are :\" , names)  "
   ]
  },
  {
   "cell_type": "code",
   "execution_count": null,
   "metadata": {
    "execution": {
     "iopub.execute_input": "2022-09-27T14:44:44.522481Z",
     "iopub.status.busy": "2022-09-27T14:44:44.521941Z",
     "iopub.status.idle": "2022-09-27T14:44:44.531294Z",
     "shell.execute_reply": "2022-09-27T14:44:44.529479Z",
     "shell.execute_reply.started": "2022-09-27T14:44:44.522436Z"
    }
   },
   "outputs": [],
   "source": [
    "df_data = df.drop('Disease' , axis =1)\n",
    "label = data[\"Disease\"]"
   ]
  },
  {
   "cell_type": "code",
   "execution_count": null,
   "metadata": {
    "execution": {
     "iopub.execute_input": "2022-09-27T14:45:01.170286Z",
     "iopub.status.busy": "2022-09-27T14:45:01.169784Z",
     "iopub.status.idle": "2022-09-27T14:45:01.680495Z",
     "shell.execute_reply": "2022-09-27T14:45:01.678916Z",
     "shell.execute_reply.started": "2022-09-27T14:45:01.170248Z"
    }
   },
   "outputs": [],
   "source": [
    "x_train, x_test, y_train, y_test = train_test_split(df_data, label, shuffle=True, train_size = 0.70)\n",
    "randomFC = RandomForestClassifier()\n",
    "randomFC.fit(x_train, y_train)\n",
    "result = randomFC.predict(x_test)\n",
    "print(randomFC)\n",
    "print(classification_report(y_true=y_test, y_pred=result))\n",
    "print('F1-score% =', f1_score(y_test, result, average='macro')*100, '|', 'Accuracy% =', accuracy_score(y_test, result)*100)\n"
   ]
  },
  {
   "cell_type": "code",
   "execution_count": null,
   "metadata": {
    "execution": {
     "iopub.execute_input": "2022-09-27T14:59:47.470427Z",
     "iopub.status.busy": "2022-09-27T14:59:47.469365Z",
     "iopub.status.idle": "2022-09-27T14:59:47.477046Z",
     "shell.execute_reply": "2022-09-27T14:59:47.476195Z",
     "shell.execute_reply.started": "2022-09-27T14:59:47.470390Z"
    }
   },
   "outputs": [],
   "source": [
    "qw=pd.DataFrame([[1,2,3,4,5,6,1,2,3,4,5,6,1,2,3,4,5]],columns=['Symptom_1', 'Symptom_2', 'Symptom_3', 'Symptom_4', 'Symptom_5',\n",
    "       'Symptom_6', 'Symptom_7', 'Symptom_8', 'Symptom_9', 'Symptom_10',\n",
    "       'Symptom_11', 'Symptom_12', 'Symptom_13', 'Symptom_14', 'Symptom_15',\n",
    "       'Symptom_16', 'Symptom_17'])"
   ]
  },
  {
   "cell_type": "code",
   "execution_count": null,
   "metadata": {
    "execution": {
     "iopub.execute_input": "2022-09-27T14:59:34.521267Z",
     "iopub.status.busy": "2022-09-27T14:59:34.520819Z",
     "iopub.status.idle": "2022-09-27T14:59:34.530530Z",
     "shell.execute_reply": "2022-09-27T14:59:34.529121Z",
     "shell.execute_reply.started": "2022-09-27T14:59:34.521230Z"
    }
   },
   "outputs": [],
   "source": [
    "x_train.columns"
   ]
  },
  {
   "cell_type": "code",
   "execution_count": null,
   "metadata": {
    "execution": {
     "iopub.execute_input": "2022-09-27T15:01:13.601946Z",
     "iopub.status.busy": "2022-09-27T15:01:13.601444Z",
     "iopub.status.idle": "2022-09-27T15:01:13.626324Z",
     "shell.execute_reply": "2022-09-27T15:01:13.624915Z",
     "shell.execute_reply.started": "2022-09-27T15:01:13.601911Z"
    }
   },
   "outputs": [],
   "source": [
    "output = randomFC.predict(qw)"
   ]
  },
  {
   "cell_type": "code",
   "execution_count": null,
   "metadata": {
    "execution": {
     "iopub.execute_input": "2022-09-27T15:01:23.108931Z",
     "iopub.status.busy": "2022-09-27T15:01:23.108517Z",
     "iopub.status.idle": "2022-09-27T15:01:23.117382Z",
     "shell.execute_reply": "2022-09-27T15:01:23.115965Z",
     "shell.execute_reply.started": "2022-09-27T15:01:23.108896Z"
    }
   },
   "outputs": [],
   "source": [
    "output[0]"
   ]
  },
  {
   "cell_type": "code",
   "execution_count": null,
   "metadata": {
    "execution": {
     "iopub.execute_input": "2022-09-27T15:06:25.612101Z",
     "iopub.status.busy": "2022-09-27T15:06:25.611605Z",
     "iopub.status.idle": "2022-09-27T15:06:25.618364Z",
     "shell.execute_reply": "2022-09-27T15:06:25.616785Z",
     "shell.execute_reply.started": "2022-09-27T15:06:25.612062Z"
    }
   },
   "outputs": [],
   "source": [
    "import pickle\n"
   ]
  },
  {
   "cell_type": "code",
   "execution_count": null,
   "metadata": {
    "execution": {
     "iopub.execute_input": "2022-09-27T15:06:28.097639Z",
     "iopub.status.busy": "2022-09-27T15:06:28.097200Z",
     "iopub.status.idle": "2022-09-27T15:06:28.128078Z",
     "shell.execute_reply": "2022-09-27T15:06:28.126929Z",
     "shell.execute_reply.started": "2022-09-27T15:06:28.097604Z"
    }
   },
   "outputs": [],
   "source": [
    "filename='model.pkl'\n",
    "pickle.dump(randomFC,open(filename,'wb'))"
   ]
  },
  {
   "cell_type": "code",
   "execution_count": null,
   "metadata": {
    "execution": {
     "iopub.execute_input": "2022-09-27T15:06:35.682667Z",
     "iopub.status.busy": "2022-09-27T15:06:35.681780Z",
     "iopub.status.idle": "2022-09-27T15:06:35.708519Z",
     "shell.execute_reply": "2022-09-27T15:06:35.707561Z",
     "shell.execute_reply.started": "2022-09-27T15:06:35.682624Z"
    }
   },
   "outputs": [],
   "source": [
    "clff=pickle.load(open('model.pkl','rb'))"
   ]
  },
  {
   "cell_type": "code",
   "execution_count": null,
   "metadata": {
    "execution": {
     "iopub.execute_input": "2022-09-27T15:06:36.145715Z",
     "iopub.status.busy": "2022-09-27T15:06:36.145313Z",
     "iopub.status.idle": "2022-09-27T15:06:36.269359Z",
     "shell.execute_reply": "2022-09-27T15:06:36.268442Z",
     "shell.execute_reply.started": "2022-09-27T15:06:36.145676Z"
    }
   },
   "outputs": [],
   "source": [
    "result = clff.predict(x_test)\n",
    "print(classification_report(y_true=y_test, y_pred=result))\n",
    "print('F1-score% =', f1_score(y_test, result, average='macro')*100, '|', 'Accuracy% =', accuracy_score(y_test, result)*100)"
   ]
  },
  {
   "cell_type": "code",
   "execution_count": null,
   "metadata": {},
   "outputs": [],
   "source": []
  }
 ],
 "metadata": {
  "kernelspec": {
   "display_name": "Python 3 (ipykernel)",
   "language": "python",
   "name": "python3"
  },
  "language_info": {
   "codemirror_mode": {
    "name": "ipython",
    "version": 3
   },
   "file_extension": ".py",
   "mimetype": "text/x-python",
   "name": "python",
   "nbconvert_exporter": "python",
   "pygments_lexer": "ipython3",
   "version": "3.11.4"
  }
 },
 "nbformat": 4,
 "nbformat_minor": 4
}
